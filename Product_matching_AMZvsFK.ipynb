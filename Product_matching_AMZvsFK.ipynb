{
 "cells": [
  {
   "cell_type": "code",
   "execution_count": 1,
   "id": "f38a1398",
   "metadata": {},
   "outputs": [],
   "source": [
    "# Importing required libraries\n",
    "import pandas as pd\n",
    "import numpy as np\n",
    "import matplotlib.pyplot as plt\n",
    "import seaborn as sns\n",
    "\n",
    "import warnings\n",
    "warnings.filterwarnings('ignore')\n",
    "\n",
    "from tabulate import tabulate\n",
    "\n",
    "%matplotlib Inline"
   ]
  },
  {
   "cell_type": "code",
   "execution_count": 2,
   "id": "de5defe6",
   "metadata": {},
   "outputs": [
    {
     "name": "stdout",
     "output_type": "stream",
     "text": [
      "<_io.TextIOWrapper name='E:\\\\SIMPLILEARN\\\\KAGGLE\\\\DataSet\\\\DS - Assignment Part 2 data set\\\\amz_com-ecommerce_sample.csv' mode='r' encoding='cp1252'>\n"
     ]
    }
   ],
   "source": [
    "# Reading the datasets\n",
    "data = \"E:\\\\SIMPLILEARN\\\\KAGGLE\\\\DataSet\\\\DS - Assignment Part 2 data set\\\\amz_com-ecommerce_sample.csv\" \n",
    "with open(data) as f:\n",
    "    print(f)\n",
    "df_amazon = pd.read_csv(data, encoding='ISO-8859-1')"
   ]
  },
  {
   "cell_type": "code",
   "execution_count": 3,
   "id": "4f57d25c",
   "metadata": {},
   "outputs": [],
   "source": [
    "df_flipkart = pd.read_csv(\"E:/SIMPLILEARN/KAGGLE/DataSet/DS - Assignment Part 2 data set/flipkart_com-ecommerce_sample.csv\")"
   ]
  },
  {
   "cell_type": "code",
   "execution_count": 4,
   "id": "b82ace39",
   "metadata": {},
   "outputs": [
    {
     "data": {
      "text/html": [
       "<div>\n",
       "<style scoped>\n",
       "    .dataframe tbody tr th:only-of-type {\n",
       "        vertical-align: middle;\n",
       "    }\n",
       "\n",
       "    .dataframe tbody tr th {\n",
       "        vertical-align: top;\n",
       "    }\n",
       "\n",
       "    .dataframe thead th {\n",
       "        text-align: right;\n",
       "    }\n",
       "</style>\n",
       "<table border=\"1\" class=\"dataframe\">\n",
       "  <thead>\n",
       "    <tr style=\"text-align: right;\">\n",
       "      <th></th>\n",
       "      <th>uniq_id</th>\n",
       "      <th>crawl_timestamp</th>\n",
       "      <th>product_url</th>\n",
       "      <th>product_name</th>\n",
       "      <th>product_category_tree</th>\n",
       "      <th>pid</th>\n",
       "      <th>retail_price</th>\n",
       "      <th>discounted_price</th>\n",
       "      <th>image</th>\n",
       "      <th>is_FK_Advantage_product</th>\n",
       "      <th>description</th>\n",
       "      <th>product_rating</th>\n",
       "      <th>overall_rating</th>\n",
       "      <th>brand</th>\n",
       "      <th>product_specifications</th>\n",
       "    </tr>\n",
       "  </thead>\n",
       "  <tbody>\n",
       "    <tr>\n",
       "      <th>0</th>\n",
       "      <td>c2d766ca982eca8304150849735ffef9</td>\n",
       "      <td>2016-03-25 22:59:23 +0000</td>\n",
       "      <td>http://www.flipkart.com/alisha-solid-women-s-c...</td>\n",
       "      <td>Alisha Solid Women's Cycling Shorts</td>\n",
       "      <td>[\"Clothing &gt;&gt; Women's Clothing &gt;&gt; Lingerie, Sl...</td>\n",
       "      <td>SRTEH2FF9KEDEFGF</td>\n",
       "      <td>982</td>\n",
       "      <td>438</td>\n",
       "      <td>[\"http://img5a.flixcart.com/image/short/u/4/a/...</td>\n",
       "      <td>False</td>\n",
       "      <td>Key Features of Alisha Solid Women's Cycling S...</td>\n",
       "      <td>No rating available</td>\n",
       "      <td>No rating available</td>\n",
       "      <td>Alisha</td>\n",
       "      <td>{\"product_specification\"=&gt;[{\"key\"=&gt;\"Number of ...</td>\n",
       "    </tr>\n",
       "    <tr>\n",
       "      <th>1</th>\n",
       "      <td>7f7036a6d550aaa89d34c77bd39a5e48</td>\n",
       "      <td>2016-03-25 22:59:23 +0000</td>\n",
       "      <td>http://www.flipkart.com/fabhomedecor-fabric-do...</td>\n",
       "      <td>FabHomeDecor Fabric Double Sofa Bed</td>\n",
       "      <td>[\"Furniture &gt;&gt; Living Room Furniture &gt;&gt; Sofa B...</td>\n",
       "      <td>SBEEH3QGU7MFYJFY</td>\n",
       "      <td>32143</td>\n",
       "      <td>29121</td>\n",
       "      <td>[\"http://img6a.flixcart.com/image/sofa-bed/j/f...</td>\n",
       "      <td>False</td>\n",
       "      <td>FabHomeDecor Fabric Double Sofa Bed (Finish Co...</td>\n",
       "      <td>No rating available</td>\n",
       "      <td>No rating available</td>\n",
       "      <td>FabHomeDecor</td>\n",
       "      <td>{\"product_specification\"=&gt;[{\"key\"=&gt;\"Installati...</td>\n",
       "    </tr>\n",
       "  </tbody>\n",
       "</table>\n",
       "</div>"
      ],
      "text/plain": [
       "                            uniq_id            crawl_timestamp  \\\n",
       "0  c2d766ca982eca8304150849735ffef9  2016-03-25 22:59:23 +0000   \n",
       "1  7f7036a6d550aaa89d34c77bd39a5e48  2016-03-25 22:59:23 +0000   \n",
       "\n",
       "                                         product_url  \\\n",
       "0  http://www.flipkart.com/alisha-solid-women-s-c...   \n",
       "1  http://www.flipkart.com/fabhomedecor-fabric-do...   \n",
       "\n",
       "                          product_name  \\\n",
       "0  Alisha Solid Women's Cycling Shorts   \n",
       "1  FabHomeDecor Fabric Double Sofa Bed   \n",
       "\n",
       "                               product_category_tree               pid  \\\n",
       "0  [\"Clothing >> Women's Clothing >> Lingerie, Sl...  SRTEH2FF9KEDEFGF   \n",
       "1  [\"Furniture >> Living Room Furniture >> Sofa B...  SBEEH3QGU7MFYJFY   \n",
       "\n",
       "   retail_price  discounted_price  \\\n",
       "0           982               438   \n",
       "1         32143             29121   \n",
       "\n",
       "                                               image  is_FK_Advantage_product  \\\n",
       "0  [\"http://img5a.flixcart.com/image/short/u/4/a/...                    False   \n",
       "1  [\"http://img6a.flixcart.com/image/sofa-bed/j/f...                    False   \n",
       "\n",
       "                                         description       product_rating  \\\n",
       "0  Key Features of Alisha Solid Women's Cycling S...  No rating available   \n",
       "1  FabHomeDecor Fabric Double Sofa Bed (Finish Co...  No rating available   \n",
       "\n",
       "        overall_rating         brand  \\\n",
       "0  No rating available        Alisha   \n",
       "1  No rating available  FabHomeDecor   \n",
       "\n",
       "                              product_specifications  \n",
       "0  {\"product_specification\"=>[{\"key\"=>\"Number of ...  \n",
       "1  {\"product_specification\"=>[{\"key\"=>\"Installati...  "
      ]
     },
     "execution_count": 4,
     "metadata": {},
     "output_type": "execute_result"
    }
   ],
   "source": [
    "df_amazon.head(2)"
   ]
  },
  {
   "cell_type": "code",
   "execution_count": 5,
   "id": "60e5fd45",
   "metadata": {},
   "outputs": [
    {
     "data": {
      "text/html": [
       "<div>\n",
       "<style scoped>\n",
       "    .dataframe tbody tr th:only-of-type {\n",
       "        vertical-align: middle;\n",
       "    }\n",
       "\n",
       "    .dataframe tbody tr th {\n",
       "        vertical-align: top;\n",
       "    }\n",
       "\n",
       "    .dataframe thead th {\n",
       "        text-align: right;\n",
       "    }\n",
       "</style>\n",
       "<table border=\"1\" class=\"dataframe\">\n",
       "  <thead>\n",
       "    <tr style=\"text-align: right;\">\n",
       "      <th></th>\n",
       "      <th>uniq_id</th>\n",
       "      <th>crawl_timestamp</th>\n",
       "      <th>product_url</th>\n",
       "      <th>product_name</th>\n",
       "      <th>product_category_tree</th>\n",
       "      <th>pid</th>\n",
       "      <th>retail_price</th>\n",
       "      <th>discounted_price</th>\n",
       "      <th>image</th>\n",
       "      <th>is_FK_Advantage_product</th>\n",
       "      <th>description</th>\n",
       "      <th>product_rating</th>\n",
       "      <th>overall_rating</th>\n",
       "      <th>brand</th>\n",
       "      <th>product_specifications</th>\n",
       "    </tr>\n",
       "  </thead>\n",
       "  <tbody>\n",
       "    <tr>\n",
       "      <th>0</th>\n",
       "      <td>c2d766ca982eca8304150849735ffef9</td>\n",
       "      <td>2016-03-25 22:59:23 +0000</td>\n",
       "      <td>http://www.flipkart.com/alisha-solid-women-s-c...</td>\n",
       "      <td>Alisha Solid Women's Cycling Shorts</td>\n",
       "      <td>[\"Clothing &gt;&gt; Women's Clothing &gt;&gt; Lingerie, Sl...</td>\n",
       "      <td>SRTEH2FF9KEDEFGF</td>\n",
       "      <td>999.0</td>\n",
       "      <td>379.0</td>\n",
       "      <td>[\"http://img5a.flixcart.com/image/short/u/4/a/...</td>\n",
       "      <td>False</td>\n",
       "      <td>Key Features of Alisha Solid Women's Cycling S...</td>\n",
       "      <td>No rating available</td>\n",
       "      <td>No rating available</td>\n",
       "      <td>Alisha</td>\n",
       "      <td>{\"product_specification\"=&gt;[{\"key\"=&gt;\"Number of ...</td>\n",
       "    </tr>\n",
       "    <tr>\n",
       "      <th>1</th>\n",
       "      <td>7f7036a6d550aaa89d34c77bd39a5e48</td>\n",
       "      <td>2016-03-25 22:59:23 +0000</td>\n",
       "      <td>http://www.flipkart.com/fabhomedecor-fabric-do...</td>\n",
       "      <td>FabHomeDecor Fabric Double Sofa Bed</td>\n",
       "      <td>[\"Furniture &gt;&gt; Living Room Furniture &gt;&gt; Sofa B...</td>\n",
       "      <td>SBEEH3QGU7MFYJFY</td>\n",
       "      <td>32157.0</td>\n",
       "      <td>22646.0</td>\n",
       "      <td>[\"http://img6a.flixcart.com/image/sofa-bed/j/f...</td>\n",
       "      <td>False</td>\n",
       "      <td>FabHomeDecor Fabric Double Sofa Bed (Finish Co...</td>\n",
       "      <td>No rating available</td>\n",
       "      <td>No rating available</td>\n",
       "      <td>FabHomeDecor</td>\n",
       "      <td>{\"product_specification\"=&gt;[{\"key\"=&gt;\"Installati...</td>\n",
       "    </tr>\n",
       "  </tbody>\n",
       "</table>\n",
       "</div>"
      ],
      "text/plain": [
       "                            uniq_id            crawl_timestamp  \\\n",
       "0  c2d766ca982eca8304150849735ffef9  2016-03-25 22:59:23 +0000   \n",
       "1  7f7036a6d550aaa89d34c77bd39a5e48  2016-03-25 22:59:23 +0000   \n",
       "\n",
       "                                         product_url  \\\n",
       "0  http://www.flipkart.com/alisha-solid-women-s-c...   \n",
       "1  http://www.flipkart.com/fabhomedecor-fabric-do...   \n",
       "\n",
       "                          product_name  \\\n",
       "0  Alisha Solid Women's Cycling Shorts   \n",
       "1  FabHomeDecor Fabric Double Sofa Bed   \n",
       "\n",
       "                               product_category_tree               pid  \\\n",
       "0  [\"Clothing >> Women's Clothing >> Lingerie, Sl...  SRTEH2FF9KEDEFGF   \n",
       "1  [\"Furniture >> Living Room Furniture >> Sofa B...  SBEEH3QGU7MFYJFY   \n",
       "\n",
       "   retail_price  discounted_price  \\\n",
       "0         999.0             379.0   \n",
       "1       32157.0           22646.0   \n",
       "\n",
       "                                               image  is_FK_Advantage_product  \\\n",
       "0  [\"http://img5a.flixcart.com/image/short/u/4/a/...                    False   \n",
       "1  [\"http://img6a.flixcart.com/image/sofa-bed/j/f...                    False   \n",
       "\n",
       "                                         description       product_rating  \\\n",
       "0  Key Features of Alisha Solid Women's Cycling S...  No rating available   \n",
       "1  FabHomeDecor Fabric Double Sofa Bed (Finish Co...  No rating available   \n",
       "\n",
       "        overall_rating         brand  \\\n",
       "0  No rating available        Alisha   \n",
       "1  No rating available  FabHomeDecor   \n",
       "\n",
       "                              product_specifications  \n",
       "0  {\"product_specification\"=>[{\"key\"=>\"Number of ...  \n",
       "1  {\"product_specification\"=>[{\"key\"=>\"Installati...  "
      ]
     },
     "execution_count": 5,
     "metadata": {},
     "output_type": "execute_result"
    }
   ],
   "source": [
    "df_flipkart.head(2)"
   ]
  },
  {
   "cell_type": "code",
   "execution_count": 6,
   "id": "72ed96ea",
   "metadata": {},
   "outputs": [
    {
     "name": "stdout",
     "output_type": "stream",
     "text": [
      "(20000, 15)\n"
     ]
    },
    {
     "data": {
      "text/plain": [
       "(20000, 15)"
      ]
     },
     "execution_count": 6,
     "metadata": {},
     "output_type": "execute_result"
    }
   ],
   "source": [
    "# Shape of datasets\n",
    "print(df_amazon.shape)\n",
    "df_flipkart.shape"
   ]
  },
  {
   "cell_type": "code",
   "execution_count": 7,
   "id": "52e09635",
   "metadata": {},
   "outputs": [
    {
     "name": "stdout",
     "output_type": "stream",
     "text": [
      "<class 'pandas.core.frame.DataFrame'>\n",
      "RangeIndex: 20000 entries, 0 to 19999\n",
      "Data columns (total 15 columns):\n",
      " #   Column                   Non-Null Count  Dtype \n",
      "---  ------                   --------------  ----- \n",
      " 0   uniq_id                  20000 non-null  object\n",
      " 1   crawl_timestamp          20000 non-null  object\n",
      " 2   product_url              20000 non-null  object\n",
      " 3   product_name             20000 non-null  object\n",
      " 4   product_category_tree    20000 non-null  object\n",
      " 5   pid                      20000 non-null  object\n",
      " 6   retail_price             20000 non-null  int64 \n",
      " 7   discounted_price         20000 non-null  int64 \n",
      " 8   image                    19997 non-null  object\n",
      " 9   is_FK_Advantage_product  20000 non-null  bool  \n",
      " 10  description              19998 non-null  object\n",
      " 11  product_rating           20000 non-null  object\n",
      " 12  overall_rating           20000 non-null  object\n",
      " 13  brand                    14136 non-null  object\n",
      " 14  product_specifications   19986 non-null  object\n",
      "dtypes: bool(1), int64(2), object(12)\n",
      "memory usage: 2.2+ MB\n"
     ]
    }
   ],
   "source": [
    "# Info of amazon data\n",
    "df_amazon.info()"
   ]
  },
  {
   "cell_type": "code",
   "execution_count": 8,
   "id": "27bd523d",
   "metadata": {},
   "outputs": [
    {
     "name": "stdout",
     "output_type": "stream",
     "text": [
      "<class 'pandas.core.frame.DataFrame'>\n",
      "RangeIndex: 20000 entries, 0 to 19999\n",
      "Data columns (total 15 columns):\n",
      " #   Column                   Non-Null Count  Dtype  \n",
      "---  ------                   --------------  -----  \n",
      " 0   uniq_id                  20000 non-null  object \n",
      " 1   crawl_timestamp          20000 non-null  object \n",
      " 2   product_url              20000 non-null  object \n",
      " 3   product_name             20000 non-null  object \n",
      " 4   product_category_tree    20000 non-null  object \n",
      " 5   pid                      20000 non-null  object \n",
      " 6   retail_price             19922 non-null  float64\n",
      " 7   discounted_price         19922 non-null  float64\n",
      " 8   image                    19997 non-null  object \n",
      " 9   is_FK_Advantage_product  20000 non-null  bool   \n",
      " 10  description              19998 non-null  object \n",
      " 11  product_rating           20000 non-null  object \n",
      " 12  overall_rating           20000 non-null  object \n",
      " 13  brand                    14136 non-null  object \n",
      " 14  product_specifications   19986 non-null  object \n",
      "dtypes: bool(1), float64(2), object(12)\n",
      "memory usage: 2.2+ MB\n"
     ]
    }
   ],
   "source": [
    "# Info for Flipkart Dataset\n",
    "df_flipkart.info()"
   ]
  },
  {
   "cell_type": "code",
   "execution_count": 9,
   "id": "96c87eaf",
   "metadata": {},
   "outputs": [
    {
     "data": {
      "text/plain": [
       "uniq_id                       0\n",
       "crawl_timestamp               0\n",
       "product_url                   0\n",
       "product_name                  0\n",
       "product_category_tree         0\n",
       "pid                           0\n",
       "retail_price                  0\n",
       "discounted_price              0\n",
       "image                         3\n",
       "is_FK_Advantage_product       0\n",
       "description                   2\n",
       "product_rating                0\n",
       "overall_rating                0\n",
       "brand                      5864\n",
       "product_specifications       14\n",
       "dtype: int64"
      ]
     },
     "execution_count": 9,
     "metadata": {},
     "output_type": "execute_result"
    }
   ],
   "source": [
    "# Check null values in amazon data\n",
    "df_amazon.isna().sum()"
   ]
  },
  {
   "cell_type": "code",
   "execution_count": 10,
   "id": "938bfbf3",
   "metadata": {},
   "outputs": [
    {
     "data": {
      "text/plain": [
       "uniq_id                       0\n",
       "crawl_timestamp               0\n",
       "product_url                   0\n",
       "product_name                  0\n",
       "product_category_tree         0\n",
       "pid                           0\n",
       "retail_price                 78\n",
       "discounted_price             78\n",
       "image                         3\n",
       "is_FK_Advantage_product       0\n",
       "description                   2\n",
       "product_rating                0\n",
       "overall_rating                0\n",
       "brand                      5864\n",
       "product_specifications       14\n",
       "dtype: int64"
      ]
     },
     "execution_count": 10,
     "metadata": {},
     "output_type": "execute_result"
    }
   ],
   "source": [
    "# Check null values in Flikart data\n",
    "df_flipkart.isna().sum()"
   ]
  },
  {
   "cell_type": "markdown",
   "id": "358509d0",
   "metadata": {},
   "source": [
    "* So as we just have to match similar products from the Flipkart dataset with the Amazon dataset,\n",
    "  we dont need columns which are not necessary to for ML"
   ]
  },
  {
   "cell_type": "code",
   "execution_count": 11,
   "id": "3ba1cd03",
   "metadata": {},
   "outputs": [
    {
     "name": "stdout",
     "output_type": "stream",
     "text": [
      "Amazon:-  Index(['uniq_id', 'crawl_timestamp', 'product_url', 'product_name',\n",
      "       'product_category_tree', 'pid', 'retail_price', 'discounted_price',\n",
      "       'image', 'is_FK_Advantage_product', 'description', 'product_rating',\n",
      "       'overall_rating', 'brand', 'product_specifications'],\n",
      "      dtype='object')\n",
      "----------------------------------------------------------------------------------------------------\n",
      "Flipkart:-  Index(['uniq_id', 'crawl_timestamp', 'product_url', 'product_name',\n",
      "       'product_category_tree', 'pid', 'retail_price', 'discounted_price',\n",
      "       'image', 'is_FK_Advantage_product', 'description', 'product_rating',\n",
      "       'overall_rating', 'brand', 'product_specifications'],\n",
      "      dtype='object')\n"
     ]
    }
   ],
   "source": [
    "# Columns present in the datasets\n",
    "print(\"Amazon:- \",df_amazon.columns)\n",
    "print(\"--\"*50)\n",
    "print(\"Flipkart:- \",df_flipkart.columns)"
   ]
  },
  {
   "cell_type": "markdown",
   "id": "9ef59cf7",
   "metadata": {},
   "source": [
    "## Data Cleaning"
   ]
  },
  {
   "cell_type": "code",
   "execution_count": 12,
   "id": "65e80f4c",
   "metadata": {},
   "outputs": [],
   "source": [
    "# Dropping columns from amazon & flipkart dataset, coz they are unnecessary for the analysis\n",
    "amazon = df_amazon.drop(columns=['crawl_timestamp', 'product_url','product_category_tree', 'pid','image',\n",
    "                                 'is_FK_Advantage_product','overall_rating','description','product_specifications'])\n",
    "flipkart = df_flipkart.drop(columns=['crawl_timestamp', 'product_url','product_category_tree', 'pid','image',\n",
    "                                 'is_FK_Advantage_product','overall_rating','description','product_specifications'])"
   ]
  },
  {
   "cell_type": "code",
   "execution_count": 13,
   "id": "87ba014f",
   "metadata": {},
   "outputs": [
    {
     "data": {
      "text/plain": [
       "90.755"
      ]
     },
     "execution_count": 13,
     "metadata": {},
     "output_type": "execute_result"
    }
   ],
   "source": [
    "# Check how many missing values are their for ratings in amazon\n",
    "(amazon['product_rating'] == 'No rating available').sum()/amazon['product_rating'].shape[0]*100"
   ]
  },
  {
   "cell_type": "code",
   "execution_count": 14,
   "id": "8b16bdb6",
   "metadata": {},
   "outputs": [
    {
     "data": {
      "text/plain": [
       "90.755"
      ]
     },
     "execution_count": 14,
     "metadata": {},
     "output_type": "execute_result"
    }
   ],
   "source": [
    "# Check how many missing values are their for ratings in flipkart dataset\n",
    "(flipkart['product_rating'] == 'No rating available').sum()/flipkart['product_rating'].shape[0]*100"
   ]
  },
  {
   "cell_type": "code",
   "execution_count": 15,
   "id": "f621c50b",
   "metadata": {},
   "outputs": [],
   "source": [
    "# Amzon data has 90.75 % of the values in rating is null, Hence remove product_rating also\n",
    "amazon.drop(columns=['product_rating'], inplace=True)\n",
    "# Flipkart data has 90.75 % of the values in rating is null, Hence remove product_rating also\n",
    "flipkart.drop(columns=['product_rating'], inplace=True)"
   ]
  },
  {
   "cell_type": "code",
   "execution_count": 16,
   "id": "98b09460",
   "metadata": {},
   "outputs": [
    {
     "name": "stdout",
     "output_type": "stream",
     "text": [
      "4325\n",
      "0\n"
     ]
    }
   ],
   "source": [
    "# Their are some discounted price that are more than their retail price value\n",
    "print((amazon['retail_price'] < amazon['discounted_price']).sum())\n",
    "print((flipkart['retail_price'] < flipkart['discounted_price']).sum())"
   ]
  },
  {
   "cell_type": "code",
   "execution_count": 17,
   "id": "55c449c3",
   "metadata": {},
   "outputs": [],
   "source": [
    "# Their are 4325 value of discounted price which are greater than the retail_price, dropping them\n",
    "greater_val = amazon[amazon['retail_price'] < amazon['discounted_price']].index\n",
    "flip_val = flipkart[flipkart['retail_price'] < flipkart['discounted_price']].index\n",
    "# Droping values that are greater than the retail price\n",
    "amazon = amazon.drop(greater_val)\n",
    "flipkart = flipkart.drop(flip_val)"
   ]
  },
  {
   "cell_type": "code",
   "execution_count": 18,
   "id": "25b7fb8c",
   "metadata": {},
   "outputs": [
    {
     "name": "stdout",
     "output_type": "stream",
     "text": [
      "Amazon:  3234\n",
      "Flipkart:  4375\n"
     ]
    }
   ],
   "source": [
    "# At sale flipkart and amazon dont provide more than 80% Off on offers, checking the discount value more than that\n",
    "print(\"Amazon: \",(amazon['discounted_price']/amazon['retail_price'] > 0.80).sum())\n",
    "print(\"Flipkart: \",(flipkart['discounted_price']/flipkart['retail_price'] > 0.80).sum())"
   ]
  },
  {
   "cell_type": "code",
   "execution_count": 19,
   "id": "fd351777",
   "metadata": {},
   "outputs": [],
   "source": [
    "# In Overstock sales the company can only gives max 80% of discount, Hence removing data that has more than 80% discounted value.\n",
    "over_discounted_Amazon = amazon[amazon['discounted_price']/amazon['retail_price'] > 0.80].index\n",
    "over_discounted_Flipkart = flipkart[flipkart['discounted_price']/flipkart['retail_price'] > 0.80].index\n",
    "# --- Amazon ----\n",
    "amazon = amazon.drop(over_discounted_Amazon)\n",
    "# ----  Flipkart ------\n",
    "flipkart = flipkart.drop(over_discounted_Flipkart)"
   ]
  },
  {
   "cell_type": "code",
   "execution_count": 20,
   "id": "d7062f5c",
   "metadata": {},
   "outputs": [
    {
     "name": "stdout",
     "output_type": "stream",
     "text": [
      "Amazon Brands:  3260\n",
      "Flipkart Brands:  4149\n"
     ]
    }
   ],
   "source": [
    "# Checking null values for brands in both the dataset\n",
    "print(\"Amazon Brands: \",amazon['brand'].isna().sum())\n",
    "print(\"Flipkart Brands: \",flipkart['brand'].isna().sum())"
   ]
  },
  {
   "cell_type": "code",
   "execution_count": 21,
   "id": "20e233f2",
   "metadata": {},
   "outputs": [],
   "source": [
    "# Dropping brand column from both the dataset as it is of no use for the analysis\n",
    "amazon = amazon.drop(columns=['brand'])\n",
    "flipkart = flipkart.drop(columns=['brand'])"
   ]
  },
  {
   "cell_type": "code",
   "execution_count": 22,
   "id": "4b8896f0",
   "metadata": {},
   "outputs": [
    {
     "data": {
      "text/plain": [
       "Int64Index([   12,    21,    76,   812,  1318,  1734,  2977,  3233,  3404,\n",
       "             3889,  4590,  5644,  5696,  5967,  6248,  6271,  6601,  6874,\n",
       "             7396,  7646,  7725,  8027,  8040,  8117,  8176,  8187,  8190,\n",
       "             8267,  8383,  8448,  8500,  8918,  9069, 10117, 10135, 10272,\n",
       "            10669, 10745, 11072, 11118, 11319, 11337, 11379, 11383, 11393,\n",
       "            11420, 11432, 11499, 11567, 11682, 11961, 11962, 11981, 12052,\n",
       "            12120, 12226, 12274, 12336, 12395, 12396, 12401, 12433, 12541,\n",
       "            12572, 12690, 12734, 12933, 13123, 13354, 16143, 16296, 16312,\n",
       "            16487, 16762, 17634, 19543, 19599, 19622],\n",
       "           dtype='int64')"
      ]
     },
     "execution_count": 22,
     "metadata": {},
     "output_type": "execute_result"
    }
   ],
   "source": [
    "flipkart.loc[flipkart['retail_price'].isna()].index"
   ]
  },
  {
   "cell_type": "code",
   "execution_count": 23,
   "id": "e9c09419",
   "metadata": {},
   "outputs": [],
   "source": [
    "# Discounted price and retailPrice columns have 78 null value, for ou analysis we need both the value, \n",
    "# therefore dropping the  null values from dataset\n",
    "flipkart.dropna(inplace=True)"
   ]
  },
  {
   "cell_type": "code",
   "execution_count": 24,
   "id": "c37261af",
   "metadata": {},
   "outputs": [],
   "source": [
    "# Selecting the apropriate columns for analysis\n",
    "flipkart = flipkart.rename(columns={'product_name':'product_name_FK','retail_price':'retail_price_FK',\n",
    "                                    'discounted_price':'discounted_price_at_FK'})\n",
    "amazon = amazon.rename(columns={'product_name':'product_name_AMZ',\n",
    "                                'retail_price':'retail_price_AMZ','discounted_price':'discounted_price_at_AMZ'})"
   ]
  },
  {
   "cell_type": "markdown",
   "id": "e34c2625",
   "metadata": {},
   "source": [
    "## Merging Flipkart and amazon dataset\n",
    "**With Outer Merge**"
   ]
  },
  {
   "cell_type": "code",
   "execution_count": 25,
   "id": "12d296fa",
   "metadata": {},
   "outputs": [],
   "source": [
    "# Merging both the datasets by outer join, so that all the data can get into one table\n",
    "df = pd.merge(flipkart,amazon, how='outer')"
   ]
  },
  {
   "cell_type": "code",
   "execution_count": 26,
   "id": "01e084d1",
   "metadata": {},
   "outputs": [
    {
     "data": {
      "text/plain": [
       "(15547, 7)"
      ]
     },
     "execution_count": 26,
     "metadata": {},
     "output_type": "execute_result"
    }
   ],
   "source": [
    "df.shape"
   ]
  },
  {
   "cell_type": "code",
   "execution_count": 27,
   "id": "5a5f5619",
   "metadata": {},
   "outputs": [
    {
     "data": {
      "text/html": [
       "<div>\n",
       "<style scoped>\n",
       "    .dataframe tbody tr th:only-of-type {\n",
       "        vertical-align: middle;\n",
       "    }\n",
       "\n",
       "    .dataframe tbody tr th {\n",
       "        vertical-align: top;\n",
       "    }\n",
       "\n",
       "    .dataframe thead th {\n",
       "        text-align: right;\n",
       "    }\n",
       "</style>\n",
       "<table border=\"1\" class=\"dataframe\">\n",
       "  <thead>\n",
       "    <tr style=\"text-align: right;\">\n",
       "      <th></th>\n",
       "      <th>uniq_id</th>\n",
       "      <th>product_name_FK</th>\n",
       "      <th>retail_price_FK</th>\n",
       "      <th>discounted_price_at_FK</th>\n",
       "      <th>product_name_AMZ</th>\n",
       "      <th>retail_price_AMZ</th>\n",
       "      <th>discounted_price_at_AMZ</th>\n",
       "    </tr>\n",
       "  </thead>\n",
       "  <tbody>\n",
       "    <tr>\n",
       "      <th>0</th>\n",
       "      <td>c2d766ca982eca8304150849735ffef9</td>\n",
       "      <td>Alisha Solid Women's Cycling Shorts</td>\n",
       "      <td>999.0</td>\n",
       "      <td>379.0</td>\n",
       "      <td>Alisha Solid Women's Cycling Shorts</td>\n",
       "      <td>982.0</td>\n",
       "      <td>438.0</td>\n",
       "    </tr>\n",
       "    <tr>\n",
       "      <th>1</th>\n",
       "      <td>7f7036a6d550aaa89d34c77bd39a5e48</td>\n",
       "      <td>FabHomeDecor Fabric Double Sofa Bed</td>\n",
       "      <td>32157.0</td>\n",
       "      <td>22646.0</td>\n",
       "      <td>NaN</td>\n",
       "      <td>NaN</td>\n",
       "      <td>NaN</td>\n",
       "    </tr>\n",
       "    <tr>\n",
       "      <th>2</th>\n",
       "      <td>f449ec65dcbc041b6ae5e6a32717d01b</td>\n",
       "      <td>AW Bellies</td>\n",
       "      <td>999.0</td>\n",
       "      <td>499.0</td>\n",
       "      <td>AW Bellies</td>\n",
       "      <td>991.0</td>\n",
       "      <td>551.0</td>\n",
       "    </tr>\n",
       "    <tr>\n",
       "      <th>3</th>\n",
       "      <td>0973b37acd0c664e3de26e97e5571454</td>\n",
       "      <td>Alisha Solid Women's Cycling Shorts</td>\n",
       "      <td>699.0</td>\n",
       "      <td>267.0</td>\n",
       "      <td>Alisha Solid Women's Cycling Shorts</td>\n",
       "      <td>694.0</td>\n",
       "      <td>325.0</td>\n",
       "    </tr>\n",
       "  </tbody>\n",
       "</table>\n",
       "</div>"
      ],
      "text/plain": [
       "                            uniq_id                      product_name_FK  \\\n",
       "0  c2d766ca982eca8304150849735ffef9  Alisha Solid Women's Cycling Shorts   \n",
       "1  7f7036a6d550aaa89d34c77bd39a5e48  FabHomeDecor Fabric Double Sofa Bed   \n",
       "2  f449ec65dcbc041b6ae5e6a32717d01b                           AW Bellies   \n",
       "3  0973b37acd0c664e3de26e97e5571454  Alisha Solid Women's Cycling Shorts   \n",
       "\n",
       "   retail_price_FK  discounted_price_at_FK  \\\n",
       "0            999.0                   379.0   \n",
       "1          32157.0                 22646.0   \n",
       "2            999.0                   499.0   \n",
       "3            699.0                   267.0   \n",
       "\n",
       "                      product_name_AMZ  retail_price_AMZ  \\\n",
       "0  Alisha Solid Women's Cycling Shorts             982.0   \n",
       "1                                  NaN               NaN   \n",
       "2                           AW Bellies             991.0   \n",
       "3  Alisha Solid Women's Cycling Shorts             694.0   \n",
       "\n",
       "   discounted_price_at_AMZ  \n",
       "0                    438.0  \n",
       "1                      NaN  \n",
       "2                    551.0  \n",
       "3                    325.0  "
      ]
     },
     "execution_count": 27,
     "metadata": {},
     "output_type": "execute_result"
    }
   ],
   "source": [
    "df.head(4)"
   ]
  },
  {
   "cell_type": "code",
   "execution_count": 28,
   "id": "2cf8c45d",
   "metadata": {},
   "outputs": [
    {
     "data": {
      "text/plain": [
       "uniq_id                       0\n",
       "product_name_FK               0\n",
       "retail_price_FK               0\n",
       "discounted_price_at_FK        0\n",
       "product_name_AMZ           3106\n",
       "retail_price_AMZ           3106\n",
       "discounted_price_at_AMZ    3106\n",
       "dtype: int64"
      ]
     },
     "execution_count": 28,
     "metadata": {},
     "output_type": "execute_result"
    }
   ],
   "source": [
    "# Checking null values\n",
    "df.isna().sum()"
   ]
  },
  {
   "cell_type": "markdown",
   "id": "5c363f7f",
   "metadata": {},
   "source": [
    "**Treating null values**"
   ]
  },
  {
   "cell_type": "code",
   "execution_count": 29,
   "id": "c6dec07e",
   "metadata": {},
   "outputs": [],
   "source": [
    "# Dropping the null values, as they've been created by the outer join\n",
    "df.dropna(inplace=True)"
   ]
  },
  {
   "cell_type": "code",
   "execution_count": 30,
   "id": "7b0d5441",
   "metadata": {},
   "outputs": [],
   "source": [
    "# Drop Duplicates present in the dataset\n",
    "df.drop_duplicates(inplace=True)"
   ]
  },
  {
   "cell_type": "code",
   "execution_count": 31,
   "id": "acf95028",
   "metadata": {},
   "outputs": [
    {
     "name": "stdout",
     "output_type": "stream",
     "text": [
      "<class 'pandas.core.frame.DataFrame'>\n",
      "Int64Index: 12441 entries, 0 to 15542\n",
      "Data columns (total 7 columns):\n",
      " #   Column                   Non-Null Count  Dtype  \n",
      "---  ------                   --------------  -----  \n",
      " 0   uniq_id                  12441 non-null  object \n",
      " 1   product_name_FK          12441 non-null  object \n",
      " 2   retail_price_FK          12441 non-null  float64\n",
      " 3   discounted_price_at_FK   12441 non-null  float64\n",
      " 4   product_name_AMZ         12441 non-null  object \n",
      " 5   retail_price_AMZ         12441 non-null  float64\n",
      " 6   discounted_price_at_AMZ  12441 non-null  float64\n",
      "dtypes: float64(4), object(3)\n",
      "memory usage: 777.6+ KB\n"
     ]
    }
   ],
   "source": [
    "df.info()"
   ]
  },
  {
   "cell_type": "code",
   "execution_count": 32,
   "id": "83e23eb4",
   "metadata": {
    "scrolled": true
   },
   "outputs": [
    {
     "data": {
      "text/html": [
       "<div>\n",
       "<style scoped>\n",
       "    .dataframe tbody tr th:only-of-type {\n",
       "        vertical-align: middle;\n",
       "    }\n",
       "\n",
       "    .dataframe tbody tr th {\n",
       "        vertical-align: top;\n",
       "    }\n",
       "\n",
       "    .dataframe thead th {\n",
       "        text-align: right;\n",
       "    }\n",
       "</style>\n",
       "<table border=\"1\" class=\"dataframe\">\n",
       "  <thead>\n",
       "    <tr style=\"text-align: right;\">\n",
       "      <th></th>\n",
       "      <th>retail_price_FK</th>\n",
       "      <th>discounted_price_at_FK</th>\n",
       "      <th>retail_price_AMZ</th>\n",
       "      <th>discounted_price_at_AMZ</th>\n",
       "    </tr>\n",
       "  </thead>\n",
       "  <tbody>\n",
       "    <tr>\n",
       "      <th>count</th>\n",
       "      <td>12441.000000</td>\n",
       "      <td>12441.000000</td>\n",
       "      <td>12441.000000</td>\n",
       "      <td>12441.000000</td>\n",
       "    </tr>\n",
       "    <tr>\n",
       "      <th>mean</th>\n",
       "      <td>1963.623262</td>\n",
       "      <td>907.783699</td>\n",
       "      <td>1953.175790</td>\n",
       "      <td>1076.316856</td>\n",
       "    </tr>\n",
       "    <tr>\n",
       "      <th>std</th>\n",
       "      <td>4554.782579</td>\n",
       "      <td>2891.882721</td>\n",
       "      <td>4554.786033</td>\n",
       "      <td>3326.478062</td>\n",
       "    </tr>\n",
       "    <tr>\n",
       "      <th>min</th>\n",
       "      <td>150.000000</td>\n",
       "      <td>45.000000</td>\n",
       "      <td>146.000000</td>\n",
       "      <td>56.000000</td>\n",
       "    </tr>\n",
       "    <tr>\n",
       "      <th>25%</th>\n",
       "      <td>799.000000</td>\n",
       "      <td>325.000000</td>\n",
       "      <td>786.000000</td>\n",
       "      <td>386.000000</td>\n",
       "    </tr>\n",
       "    <tr>\n",
       "      <th>50%</th>\n",
       "      <td>1145.000000</td>\n",
       "      <td>499.000000</td>\n",
       "      <td>1132.000000</td>\n",
       "      <td>587.000000</td>\n",
       "    </tr>\n",
       "    <tr>\n",
       "      <th>75%</th>\n",
       "      <td>1999.000000</td>\n",
       "      <td>799.000000</td>\n",
       "      <td>1986.000000</td>\n",
       "      <td>976.000000</td>\n",
       "    </tr>\n",
       "    <tr>\n",
       "      <th>max</th>\n",
       "      <td>217500.000000</td>\n",
       "      <td>141375.000000</td>\n",
       "      <td>217495.000000</td>\n",
       "      <td>157779.000000</td>\n",
       "    </tr>\n",
       "  </tbody>\n",
       "</table>\n",
       "</div>"
      ],
      "text/plain": [
       "       retail_price_FK  discounted_price_at_FK  retail_price_AMZ  \\\n",
       "count     12441.000000            12441.000000      12441.000000   \n",
       "mean       1963.623262              907.783699       1953.175790   \n",
       "std        4554.782579             2891.882721       4554.786033   \n",
       "min         150.000000               45.000000        146.000000   \n",
       "25%         799.000000              325.000000        786.000000   \n",
       "50%        1145.000000              499.000000       1132.000000   \n",
       "75%        1999.000000              799.000000       1986.000000   \n",
       "max      217500.000000           141375.000000     217495.000000   \n",
       "\n",
       "       discounted_price_at_AMZ  \n",
       "count             12441.000000  \n",
       "mean               1076.316856  \n",
       "std                3326.478062  \n",
       "min                  56.000000  \n",
       "25%                 386.000000  \n",
       "50%                 587.000000  \n",
       "75%                 976.000000  \n",
       "max              157779.000000  "
      ]
     },
     "execution_count": 32,
     "metadata": {},
     "output_type": "execute_result"
    }
   ],
   "source": [
    "df.describe()"
   ]
  },
  {
   "cell_type": "markdown",
   "id": "74a7a2bc",
   "metadata": {},
   "source": [
    "## Outliers Treatment"
   ]
  },
  {
   "cell_type": "code",
   "execution_count": 33,
   "id": "246911b8",
   "metadata": {},
   "outputs": [
    {
     "data": {
      "text/plain": [
       "(array([1, 2, 3, 4]),\n",
       " [Text(1, 0, 'retail_price_FK'),\n",
       "  Text(2, 0, 'discounted_price_at_FK'),\n",
       "  Text(3, 0, 'retail_price_AMZ'),\n",
       "  Text(4, 0, 'discounted_price_at_AMZ')])"
      ]
     },
     "execution_count": 33,
     "metadata": {},
     "output_type": "execute_result"
    },
    {
     "data": {
      "image/png": "[encoded data removed]",
      "text/plain": [
       "<Figure size 640x480 with 1 Axes>"
      ]
     },
     "metadata": {},
     "output_type": "display_data"
    }
   ],
   "source": [
    "# Plot box plot to check outliers\n",
    "df.boxplot()\n",
    "plt.xticks(rotation=40)"
   ]
  },
  {
   "cell_type": "markdown",
   "id": "3479a800",
   "metadata": {},
   "source": [
    "* From this we got a roughly guess, that their are outliers present in the dataset\n",
    "* So treating them with the Quantile method"
   ]
  },
  {
   "cell_type": "code",
   "execution_count": 34,
   "id": "39a0b4af",
   "metadata": {},
   "outputs": [],
   "source": [
    "# Define function for checking outlierrs\n",
    "def outlier_treatment(cols):\n",
    "    sorted(cols)\n",
    "    Q1 = np.quantile(cols, .25)\n",
    "    Q3 = np.quantile(cols, .75)\n",
    "    IQR = Q3 - Q1\n",
    "    lower_range = Q1 - (1.5 * IQR)\n",
    "    upper_range = Q3 + (1.5 * IQR)\n",
    "    return lower_range, upper_range"
   ]
  },
  {
   "cell_type": "code",
   "execution_count": 35,
   "id": "887fde71",
   "metadata": {},
   "outputs": [
    {
     "name": "stdout",
     "output_type": "stream",
     "text": [
      "Lower Range:  -1001.0\n",
      "Upper Range:  3799.0\n"
     ]
    }
   ],
   "source": [
    "# Checking lower and upper range of retail price of flipkart\n",
    "retail_lower_range_FK, retail_upper_range_FK = outlier_treatment(df['retail_price_FK'])\n",
    "print(\"Lower Range: \", retail_lower_range_FK)\n",
    "print(\"Upper Range: \", retail_upper_range_FK)"
   ]
  },
  {
   "cell_type": "code",
   "execution_count": 36,
   "id": "f685e351",
   "metadata": {},
   "outputs": [
    {
     "name": "stdout",
     "output_type": "stream",
     "text": [
      "Lower Range:  -1014.0\n",
      "Upper Range:  3786.0\n"
     ]
    }
   ],
   "source": [
    "# Checking lower and upper range of retail price of Amazon\n",
    "lower_range_AMZ, upper_range_AMZ = outlier_treatment(df['retail_price_AMZ'])\n",
    "print(\"Lower Range: \", lower_range_AMZ)\n",
    "print(\"Upper Range: \", upper_range_AMZ)"
   ]
  },
  {
   "cell_type": "code",
   "execution_count": 37,
   "id": "f673e3ec",
   "metadata": {},
   "outputs": [
    {
     "name": "stdout",
     "output_type": "stream",
     "text": [
      "Lower Range:  -386.0\n",
      "Upper Range:  1510.0\n"
     ]
    }
   ],
   "source": [
    "# Checking lower and upper range of discount price of flipkart\n",
    "discount_lower_range_FK, discount_upper_range_FK = outlier_treatment(df['discounted_price_at_FK'])\n",
    "print(\"Lower Range: \", discount_lower_range_FK)\n",
    "print(\"Upper Range: \", discount_upper_range_FK)"
   ]
  },
  {
   "cell_type": "code",
   "execution_count": 38,
   "id": "85674468",
   "metadata": {},
   "outputs": [
    {
     "name": "stdout",
     "output_type": "stream",
     "text": [
      "Lower Range:  -499.0\n",
      "Upper Range:  1861.0\n"
     ]
    }
   ],
   "source": [
    "# Checking lower and upper range of discount price of Amazon\n",
    "discount_lower_range_AMZ, discount_upper_range_AMZ = outlier_treatment(df['discounted_price_at_AMZ'])\n",
    "print(\"Lower Range: \", discount_lower_range_AMZ)\n",
    "print(\"Upper Range: \", discount_upper_range_AMZ)"
   ]
  },
  {
   "cell_type": "code",
   "execution_count": 39,
   "id": "ecebf3a9",
   "metadata": {},
   "outputs": [
    {
     "name": "stdout",
     "output_type": "stream",
     "text": [
      "Retail Price Flipkart\n",
      "Lower_Range:  0\n",
      "Upper_Range:  1011\n",
      "Discounted Price Flipkart\n",
      "Lower_Range:  0\n",
      "Upper_Range:  1098\n"
     ]
    }
   ],
   "source": [
    "# Lower & Upper ranges for Flipkart\n",
    "print(\"Retail Price Flipkart\")\n",
    "print(\"Lower_Range: \", (df['retail_price_FK'] < retail_lower_range_FK).sum())\n",
    "print(\"Upper_Range: \",(df['retail_price_FK'] > retail_upper_range_FK).sum())\n",
    "print(\"Discounted Price Flipkart\")\n",
    "print(\"Lower_Range: \", (df['discounted_price_at_FK'] < discount_lower_range_FK).sum())\n",
    "print(\"Upper_Range: \",(df['discounted_price_at_FK'] > discount_upper_range_FK).sum())"
   ]
  },
  {
   "cell_type": "code",
   "execution_count": 40,
   "id": "e623f079",
   "metadata": {},
   "outputs": [
    {
     "name": "stdout",
     "output_type": "stream",
     "text": [
      "Retail Price Amazon\n",
      "Lower_Range:  0\n",
      "Upper_Range:  1015\n",
      "Discounted price Amazon\n",
      "Lower_Range:  0\n",
      "Upper_Range:  1021\n"
     ]
    }
   ],
   "source": [
    "# Lower & Upper ranges for Flipkart\n",
    "print(\"Retail Price Amazon\")\n",
    "print(\"Lower_Range: \", (df['retail_price_AMZ'] < lower_range_AMZ).sum())\n",
    "print(\"Upper_Range: \",(df['retail_price_AMZ'] > upper_range_AMZ).sum())\n",
    "print(\"Discounted price Amazon\")\n",
    "print(\"Lower_Range: \", (df['discounted_price_at_AMZ'] < discount_lower_range_AMZ).sum())\n",
    "print(\"Upper_Range: \",(df['discounted_price_at_AMZ'] > discount_upper_range_AMZ).sum())"
   ]
  },
  {
   "cell_type": "code",
   "execution_count": 41,
   "id": "70ea1af5",
   "metadata": {},
   "outputs": [],
   "source": [
    "# making list of index of upper and lower limits\n",
    "retail_lower_index_FK = list(df[df['retail_price_FK'] < retail_lower_range_FK].index)\n",
    "retail_upper_index_FK = list(df[df['retail_price_FK'] > retail_upper_range_FK].index)\n",
    "discount_lower_index_FK = list(df[df['discounted_price_at_FK'] < discount_lower_range_FK].index)\n",
    "discount_upper_index_FK = list(df[df['discounted_price_at_FK'] > discount_upper_range_FK].index)"
   ]
  },
  {
   "cell_type": "code",
   "execution_count": 42,
   "id": "70ca0a6c",
   "metadata": {},
   "outputs": [],
   "source": [
    "# making list of index of upper and lower limits\n",
    "retail_lower_index_AMZ = list(df[df['retail_price_AMZ'] < lower_range_AMZ].index)\n",
    "retail_upper_index_AMZ = list(df[df['retail_price_AMZ'] > upper_range_AMZ].index)\n",
    "discount_lower_index_AMZ = list(df[df['discounted_price_at_AMZ'] < discount_lower_range_FK].index)\n",
    "discount_upper_index_AMZ = list(df[df['discounted_price_at_AMZ'] > discount_upper_range_FK].index)"
   ]
  },
  {
   "cell_type": "code",
   "execution_count": 43,
   "id": "76cadde5",
   "metadata": {},
   "outputs": [
    {
     "data": {
      "text/plain": [
       "4738"
      ]
     },
     "execution_count": 43,
     "metadata": {},
     "output_type": "execute_result"
    }
   ],
   "source": [
    "#List of total indexes that are outliers\n",
    "total_index = list(retail_lower_index_FK + retail_upper_index_FK + discount_lower_index_FK + discount_upper_index_FK \n",
    "                   + retail_lower_index_AMZ + retail_upper_index_AMZ + discount_lower_index_AMZ+discount_upper_index_AMZ)\n",
    "len(total_index)"
   ]
  },
  {
   "cell_type": "markdown",
   "id": "e938c771",
   "metadata": {},
   "source": [
    "\n",
    "* Dropping The **Outliers** from the data"
   ]
  },
  {
   "cell_type": "code",
   "execution_count": 44,
   "id": "3bfc82f3",
   "metadata": {},
   "outputs": [],
   "source": [
    "df.drop(total_index, inplace=True)"
   ]
  },
  {
   "cell_type": "code",
   "execution_count": 45,
   "id": "ec6cdf03",
   "metadata": {},
   "outputs": [
    {
     "data": {
      "text/html": [
       "<div>\n",
       "<style scoped>\n",
       "    .dataframe tbody tr th:only-of-type {\n",
       "        vertical-align: middle;\n",
       "    }\n",
       "\n",
       "    .dataframe tbody tr th {\n",
       "        vertical-align: top;\n",
       "    }\n",
       "\n",
       "    .dataframe thead th {\n",
       "        text-align: right;\n",
       "    }\n",
       "</style>\n",
       "<table border=\"1\" class=\"dataframe\">\n",
       "  <thead>\n",
       "    <tr style=\"text-align: right;\">\n",
       "      <th></th>\n",
       "      <th>uniq_id</th>\n",
       "      <th>product_name_FK</th>\n",
       "      <th>retail_price_FK</th>\n",
       "      <th>discounted_price_at_FK</th>\n",
       "      <th>product_name_AMZ</th>\n",
       "      <th>retail_price_AMZ</th>\n",
       "      <th>discounted_price_at_AMZ</th>\n",
       "    </tr>\n",
       "  </thead>\n",
       "  <tbody>\n",
       "    <tr>\n",
       "      <th>0</th>\n",
       "      <td>c2d766ca982eca8304150849735ffef9</td>\n",
       "      <td>Alisha Solid Women's Cycling Shorts</td>\n",
       "      <td>999.0</td>\n",
       "      <td>379.0</td>\n",
       "      <td>Alisha Solid Women's Cycling Shorts</td>\n",
       "      <td>982.0</td>\n",
       "      <td>438.0</td>\n",
       "    </tr>\n",
       "    <tr>\n",
       "      <th>2</th>\n",
       "      <td>f449ec65dcbc041b6ae5e6a32717d01b</td>\n",
       "      <td>AW Bellies</td>\n",
       "      <td>999.0</td>\n",
       "      <td>499.0</td>\n",
       "      <td>AW Bellies</td>\n",
       "      <td>991.0</td>\n",
       "      <td>551.0</td>\n",
       "    </tr>\n",
       "    <tr>\n",
       "      <th>3</th>\n",
       "      <td>0973b37acd0c664e3de26e97e5571454</td>\n",
       "      <td>Alisha Solid Women's Cycling Shorts</td>\n",
       "      <td>699.0</td>\n",
       "      <td>267.0</td>\n",
       "      <td>Alisha Solid Women's Cycling Shorts</td>\n",
       "      <td>694.0</td>\n",
       "      <td>325.0</td>\n",
       "    </tr>\n",
       "    <tr>\n",
       "      <th>4</th>\n",
       "      <td>ce5a6818f7707e2cb61fdcdbba61f5ad</td>\n",
       "      <td>Alisha Solid Women's Cycling Shorts</td>\n",
       "      <td>1199.0</td>\n",
       "      <td>479.0</td>\n",
       "      <td>Alisha Solid Women's Cycling Shorts</td>\n",
       "      <td>1198.0</td>\n",
       "      <td>602.0</td>\n",
       "    </tr>\n",
       "    <tr>\n",
       "      <th>6</th>\n",
       "      <td>29c8d290caa451f97b1c32df64477a2c</td>\n",
       "      <td>dilli bazaaar Bellies, Corporate Casuals, Casuals</td>\n",
       "      <td>699.0</td>\n",
       "      <td>349.0</td>\n",
       "      <td>dilli bazaaar Bellies, Corporate Casuals, Casuals</td>\n",
       "      <td>682.0</td>\n",
       "      <td>385.0</td>\n",
       "    </tr>\n",
       "  </tbody>\n",
       "</table>\n",
       "</div>"
      ],
      "text/plain": [
       "                            uniq_id  \\\n",
       "0  c2d766ca982eca8304150849735ffef9   \n",
       "2  f449ec65dcbc041b6ae5e6a32717d01b   \n",
       "3  0973b37acd0c664e3de26e97e5571454   \n",
       "4  ce5a6818f7707e2cb61fdcdbba61f5ad   \n",
       "6  29c8d290caa451f97b1c32df64477a2c   \n",
       "\n",
       "                                     product_name_FK  retail_price_FK  \\\n",
       "0                Alisha Solid Women's Cycling Shorts            999.0   \n",
       "2                                         AW Bellies            999.0   \n",
       "3                Alisha Solid Women's Cycling Shorts            699.0   \n",
       "4                Alisha Solid Women's Cycling Shorts           1199.0   \n",
       "6  dilli bazaaar Bellies, Corporate Casuals, Casuals            699.0   \n",
       "\n",
       "   discounted_price_at_FK                                   product_name_AMZ  \\\n",
       "0                   379.0                Alisha Solid Women's Cycling Shorts   \n",
       "2                   499.0                                         AW Bellies   \n",
       "3                   267.0                Alisha Solid Women's Cycling Shorts   \n",
       "4                   479.0                Alisha Solid Women's Cycling Shorts   \n",
       "6                   349.0  dilli bazaaar Bellies, Corporate Casuals, Casuals   \n",
       "\n",
       "   retail_price_AMZ  discounted_price_at_AMZ  \n",
       "0             982.0                    438.0  \n",
       "2             991.0                    551.0  \n",
       "3             694.0                    325.0  \n",
       "4            1198.0                    602.0  \n",
       "6             682.0                    385.0  "
      ]
     },
     "execution_count": 45,
     "metadata": {},
     "output_type": "execute_result"
    }
   ],
   "source": [
    "df.head()"
   ]
  },
  {
   "cell_type": "markdown",
   "id": "70631344",
   "metadata": {},
   "source": [
    "## EDA"
   ]
  },
  {
   "cell_type": "code",
   "execution_count": 46,
   "id": "15612ab0",
   "metadata": {},
   "outputs": [
    {
     "data": {
      "text/plain": [
       "array([[<AxesSubplot:title={'center':'retail_price_FK'}>,\n",
       "        <AxesSubplot:title={'center':'discounted_price_at_FK'}>],\n",
       "       [<AxesSubplot:title={'center':'retail_price_AMZ'}>,\n",
       "        <AxesSubplot:title={'center':'discounted_price_at_AMZ'}>]],\n",
       "      dtype=object)"
      ]
     },
     "execution_count": 46,
     "metadata": {},
     "output_type": "execute_result"
    },
    {
     "data": {
      "image/png": "[encoded data removed]",
      "text/plain": [
       "<Figure size 640x480 with 4 Axes>"
      ]
     },
     "metadata": {},
     "output_type": "display_data"
    }
   ],
   "source": [
    "# Histogram\n",
    "df.hist()"
   ]
  },
  {
   "cell_type": "code",
   "execution_count": 47,
   "id": "f7777583",
   "metadata": {},
   "outputs": [
    {
     "data": {
      "image/png": "[encoded data removed]",
      "text/plain": [
       "<Figure size 1000x600 with 1 Axes>"
      ]
     },
     "metadata": {},
     "output_type": "display_data"
    }
   ],
   "source": [
    "# distribution plot to see the discount distribution of Amazon & Flipkart\n",
    "plt.figure(figsize=(10, 6))\n",
    "sns.distplot(df.discounted_price_at_FK, color='blue', label=\"Flipkart\", kde=False, bins=20)\n",
    "sns.distplot(df.discounted_price_at_AMZ, color='red', label=\"Amazon\", kde=False, bins=20)\n",
    "plt.legend()\n",
    "plt.xlabel('Price')\n",
    "plt.ylabel('Products')\n",
    "plt.show()"
   ]
  },
  {
   "cell_type": "code",
   "execution_count": 48,
   "id": "3463565f",
   "metadata": {},
   "outputs": [],
   "source": [
    "# Creating new column for difference in retail price (percent) in Amazon & Flipkart\n",
    "df['Retail_price_diff'] = (df['retail_price_FK'] - df['retail_price_AMZ'])"
   ]
  },
  {
   "cell_type": "code",
   "execution_count": 49,
   "id": "ea4ede43",
   "metadata": {},
   "outputs": [],
   "source": [
    "# Creating new column for difference of discount price in Amazon & Flipkart\n",
    "df['Discount_price_diff'] = df['discounted_price_at_AMZ'] - df['discounted_price_at_FK']"
   ]
  },
  {
   "cell_type": "code",
   "execution_count": 50,
   "id": "0bcc4a0d",
   "metadata": {},
   "outputs": [
    {
     "data": {
      "text/html": [
       "<div>\n",
       "<style scoped>\n",
       "    .dataframe tbody tr th:only-of-type {\n",
       "        vertical-align: middle;\n",
       "    }\n",
       "\n",
       "    .dataframe tbody tr th {\n",
       "        vertical-align: top;\n",
       "    }\n",
       "\n",
       "    .dataframe thead th {\n",
       "        text-align: right;\n",
       "    }\n",
       "</style>\n",
       "<table border=\"1\" class=\"dataframe\">\n",
       "  <thead>\n",
       "    <tr style=\"text-align: right;\">\n",
       "      <th></th>\n",
       "      <th>uniq_id</th>\n",
       "      <th>product_name_FK</th>\n",
       "      <th>retail_price_FK</th>\n",
       "      <th>discounted_price_at_FK</th>\n",
       "      <th>product_name_AMZ</th>\n",
       "      <th>retail_price_AMZ</th>\n",
       "      <th>discounted_price_at_AMZ</th>\n",
       "      <th>Retail_price_diff</th>\n",
       "      <th>Discount_price_diff</th>\n",
       "    </tr>\n",
       "  </thead>\n",
       "  <tbody>\n",
       "    <tr>\n",
       "      <th>0</th>\n",
       "      <td>c2d766ca982eca8304150849735ffef9</td>\n",
       "      <td>Alisha Solid Women's Cycling Shorts</td>\n",
       "      <td>999.0</td>\n",
       "      <td>379.0</td>\n",
       "      <td>Alisha Solid Women's Cycling Shorts</td>\n",
       "      <td>982.0</td>\n",
       "      <td>438.0</td>\n",
       "      <td>17.0</td>\n",
       "      <td>59.0</td>\n",
       "    </tr>\n",
       "    <tr>\n",
       "      <th>2</th>\n",
       "      <td>f449ec65dcbc041b6ae5e6a32717d01b</td>\n",
       "      <td>AW Bellies</td>\n",
       "      <td>999.0</td>\n",
       "      <td>499.0</td>\n",
       "      <td>AW Bellies</td>\n",
       "      <td>991.0</td>\n",
       "      <td>551.0</td>\n",
       "      <td>8.0</td>\n",
       "      <td>52.0</td>\n",
       "    </tr>\n",
       "    <tr>\n",
       "      <th>3</th>\n",
       "      <td>0973b37acd0c664e3de26e97e5571454</td>\n",
       "      <td>Alisha Solid Women's Cycling Shorts</td>\n",
       "      <td>699.0</td>\n",
       "      <td>267.0</td>\n",
       "      <td>Alisha Solid Women's Cycling Shorts</td>\n",
       "      <td>694.0</td>\n",
       "      <td>325.0</td>\n",
       "      <td>5.0</td>\n",
       "      <td>58.0</td>\n",
       "    </tr>\n",
       "    <tr>\n",
       "      <th>4</th>\n",
       "      <td>ce5a6818f7707e2cb61fdcdbba61f5ad</td>\n",
       "      <td>Alisha Solid Women's Cycling Shorts</td>\n",
       "      <td>1199.0</td>\n",
       "      <td>479.0</td>\n",
       "      <td>Alisha Solid Women's Cycling Shorts</td>\n",
       "      <td>1198.0</td>\n",
       "      <td>602.0</td>\n",
       "      <td>1.0</td>\n",
       "      <td>123.0</td>\n",
       "    </tr>\n",
       "    <tr>\n",
       "      <th>6</th>\n",
       "      <td>29c8d290caa451f97b1c32df64477a2c</td>\n",
       "      <td>dilli bazaaar Bellies, Corporate Casuals, Casuals</td>\n",
       "      <td>699.0</td>\n",
       "      <td>349.0</td>\n",
       "      <td>dilli bazaaar Bellies, Corporate Casuals, Casuals</td>\n",
       "      <td>682.0</td>\n",
       "      <td>385.0</td>\n",
       "      <td>17.0</td>\n",
       "      <td>36.0</td>\n",
       "    </tr>\n",
       "  </tbody>\n",
       "</table>\n",
       "</div>"
      ],
      "text/plain": [
       "                            uniq_id  \\\n",
       "0  c2d766ca982eca8304150849735ffef9   \n",
       "2  f449ec65dcbc041b6ae5e6a32717d01b   \n",
       "3  0973b37acd0c664e3de26e97e5571454   \n",
       "4  ce5a6818f7707e2cb61fdcdbba61f5ad   \n",
       "6  29c8d290caa451f97b1c32df64477a2c   \n",
       "\n",
       "                                     product_name_FK  retail_price_FK  \\\n",
       "0                Alisha Solid Women's Cycling Shorts            999.0   \n",
       "2                                         AW Bellies            999.0   \n",
       "3                Alisha Solid Women's Cycling Shorts            699.0   \n",
       "4                Alisha Solid Women's Cycling Shorts           1199.0   \n",
       "6  dilli bazaaar Bellies, Corporate Casuals, Casuals            699.0   \n",
       "\n",
       "   discounted_price_at_FK                                   product_name_AMZ  \\\n",
       "0                   379.0                Alisha Solid Women's Cycling Shorts   \n",
       "2                   499.0                                         AW Bellies   \n",
       "3                   267.0                Alisha Solid Women's Cycling Shorts   \n",
       "4                   479.0                Alisha Solid Women's Cycling Shorts   \n",
       "6                   349.0  dilli bazaaar Bellies, Corporate Casuals, Casuals   \n",
       "\n",
       "   retail_price_AMZ  discounted_price_at_AMZ  Retail_price_diff  \\\n",
       "0             982.0                    438.0               17.0   \n",
       "2             991.0                    551.0                8.0   \n",
       "3             694.0                    325.0                5.0   \n",
       "4            1198.0                    602.0                1.0   \n",
       "6             682.0                    385.0               17.0   \n",
       "\n",
       "   Discount_price_diff  \n",
       "0                 59.0  \n",
       "2                 52.0  \n",
       "3                 58.0  \n",
       "4                123.0  \n",
       "6                 36.0  "
      ]
     },
     "execution_count": 50,
     "metadata": {},
     "output_type": "execute_result"
    }
   ],
   "source": [
    "df.head()"
   ]
  },
  {
   "cell_type": "code",
   "execution_count": 51,
   "id": "76f42cfd",
   "metadata": {},
   "outputs": [],
   "source": [
    "# Max - min discount by Amazon & Flipkart\n",
    "max_price = []\n",
    "min_price = []\n",
    "l = list()\n",
    "for i, row in df.iterrows():\n",
    "    if row['discounted_price_at_AMZ'] < row['discounted_price_at_FK']:\n",
    "        max_price.append(row['discounted_price_at_FK'])\n",
    "        min_price.append(row['discounted_price_at_AMZ'])\n",
    "    else:\n",
    "        max_price.append(row['discounted_price_at_AMZ'])\n",
    "        min_price.append(row['discounted_price_at_FK'])"
   ]
  },
  {
   "cell_type": "code",
   "execution_count": 52,
   "id": "8f12afcf",
   "metadata": {},
   "outputs": [
    {
     "data": {
      "text/plain": [
       "<AxesSubplot:ylabel='Density'>"
      ]
     },
     "execution_count": 52,
     "metadata": {},
     "output_type": "execute_result"
    },
    {
     "data": {
      "image/png": "[encoded data removed]",
      "text/plain": [
       "<Figure size 1000x600 with 1 Axes>"
      ]
     },
     "metadata": {},
     "output_type": "display_data"
    }
   ],
   "source": [
    "# kde plot to see max/min discount given\n",
    "plt.figure(figsize=(10, 6))\n",
    "sns.kdeplot(max_price, color='green')\n",
    "sns.kdeplot(min_price, color='orange')"
   ]
  },
  {
   "cell_type": "code",
   "execution_count": 53,
   "id": "c4f41ee4",
   "metadata": {},
   "outputs": [
    {
     "data": {
      "text/plain": [
       "Text(0.5, 0, 'Price Difference')"
      ]
     },
     "execution_count": 53,
     "metadata": {},
     "output_type": "execute_result"
    },
    {
     "data": {
      "image/png": "[encoded data removed]",
      "text/plain": [
       "<Figure size 1000x600 with 1 Axes>"
      ]
     },
     "metadata": {},
     "output_type": "display_data"
    }
   ],
   "source": [
    "# Distribution between retail price\n",
    "plt.figure(figsize=(10, 6))\n",
    "sns.distplot(abs(df['retail_price_FK']), kde=False, color='green', bins=50)\n",
    "sns.distplot(abs(df['retail_price_AMZ']), kde=False, color='blue', bins=50)\n",
    "plt.xlabel('Price Difference')"
   ]
  },
  {
   "cell_type": "markdown",
   "id": "624022e4",
   "metadata": {},
   "source": [
    "## Finalizing Data"
   ]
  },
  {
   "cell_type": "code",
   "execution_count": 54,
   "id": "8ded8834",
   "metadata": {},
   "outputs": [],
   "source": [
    "data_table = df[['product_name_FK','retail_price_FK',\n",
    "                  'discounted_price_at_FK','product_name_AMZ','retail_price_AMZ','discounted_price_at_AMZ']]"
   ]
  },
  {
   "cell_type": "code",
   "execution_count": 55,
   "id": "ee9700ab",
   "metadata": {},
   "outputs": [
    {
     "data": {
      "text/html": [
       "<div>\n",
       "<style scoped>\n",
       "    .dataframe tbody tr th:only-of-type {\n",
       "        vertical-align: middle;\n",
       "    }\n",
       "\n",
       "    .dataframe tbody tr th {\n",
       "        vertical-align: top;\n",
       "    }\n",
       "\n",
       "    .dataframe thead th {\n",
       "        text-align: right;\n",
       "    }\n",
       "</style>\n",
       "<table border=\"1\" class=\"dataframe\">\n",
       "  <thead>\n",
       "    <tr style=\"text-align: right;\">\n",
       "      <th></th>\n",
       "      <th>product_name_FK</th>\n",
       "      <th>retail_price_FK</th>\n",
       "      <th>discounted_price_at_FK</th>\n",
       "      <th>product_name_AMZ</th>\n",
       "      <th>retail_price_AMZ</th>\n",
       "      <th>discounted_price_at_AMZ</th>\n",
       "    </tr>\n",
       "  </thead>\n",
       "  <tbody>\n",
       "    <tr>\n",
       "      <th>0</th>\n",
       "      <td>Alisha Solid Women's Cycling Shorts</td>\n",
       "      <td>999.0</td>\n",
       "      <td>379.0</td>\n",
       "      <td>Alisha Solid Women's Cycling Shorts</td>\n",
       "      <td>982.0</td>\n",
       "      <td>438.0</td>\n",
       "    </tr>\n",
       "    <tr>\n",
       "      <th>2</th>\n",
       "      <td>AW Bellies</td>\n",
       "      <td>999.0</td>\n",
       "      <td>499.0</td>\n",
       "      <td>AW Bellies</td>\n",
       "      <td>991.0</td>\n",
       "      <td>551.0</td>\n",
       "    </tr>\n",
       "    <tr>\n",
       "      <th>3</th>\n",
       "      <td>Alisha Solid Women's Cycling Shorts</td>\n",
       "      <td>699.0</td>\n",
       "      <td>267.0</td>\n",
       "      <td>Alisha Solid Women's Cycling Shorts</td>\n",
       "      <td>694.0</td>\n",
       "      <td>325.0</td>\n",
       "    </tr>\n",
       "    <tr>\n",
       "      <th>4</th>\n",
       "      <td>Alisha Solid Women's Cycling Shorts</td>\n",
       "      <td>1199.0</td>\n",
       "      <td>479.0</td>\n",
       "      <td>Alisha Solid Women's Cycling Shorts</td>\n",
       "      <td>1198.0</td>\n",
       "      <td>602.0</td>\n",
       "    </tr>\n",
       "    <tr>\n",
       "      <th>6</th>\n",
       "      <td>dilli bazaaar Bellies, Corporate Casuals, Casuals</td>\n",
       "      <td>699.0</td>\n",
       "      <td>349.0</td>\n",
       "      <td>dilli bazaaar Bellies, Corporate Casuals, Casuals</td>\n",
       "      <td>682.0</td>\n",
       "      <td>385.0</td>\n",
       "    </tr>\n",
       "    <tr>\n",
       "      <th>7</th>\n",
       "      <td>Alisha Solid Women's Cycling Shorts</td>\n",
       "      <td>1199.0</td>\n",
       "      <td>479.0</td>\n",
       "      <td>Alisha Solid Women's Cycling Shorts</td>\n",
       "      <td>1197.0</td>\n",
       "      <td>542.0</td>\n",
       "    </tr>\n",
       "    <tr>\n",
       "      <th>8</th>\n",
       "      <td>Ladela Bellies</td>\n",
       "      <td>1724.0</td>\n",
       "      <td>950.0</td>\n",
       "      <td>Ladela Bellies</td>\n",
       "      <td>1705.0</td>\n",
       "      <td>1119.0</td>\n",
       "    </tr>\n",
       "    <tr>\n",
       "      <th>9</th>\n",
       "      <td>Carrel Printed Women's</td>\n",
       "      <td>2299.0</td>\n",
       "      <td>910.0</td>\n",
       "      <td>Carrel Printed Women's</td>\n",
       "      <td>2281.0</td>\n",
       "      <td>1080.0</td>\n",
       "    </tr>\n",
       "    <tr>\n",
       "      <th>10</th>\n",
       "      <td>Alisha Solid Women's Cycling Shorts</td>\n",
       "      <td>999.0</td>\n",
       "      <td>379.0</td>\n",
       "      <td>Alisha Solid Women's Cycling Shorts</td>\n",
       "      <td>990.0</td>\n",
       "      <td>479.0</td>\n",
       "    </tr>\n",
       "    <tr>\n",
       "      <th>11</th>\n",
       "      <td>Alisha Solid Women's Cycling Shorts</td>\n",
       "      <td>999.0</td>\n",
       "      <td>379.0</td>\n",
       "      <td>Alisha Solid Women's Cycling Shorts</td>\n",
       "      <td>995.0</td>\n",
       "      <td>434.0</td>\n",
       "    </tr>\n",
       "  </tbody>\n",
       "</table>\n",
       "</div>"
      ],
      "text/plain": [
       "                                      product_name_FK  retail_price_FK  \\\n",
       "0                 Alisha Solid Women's Cycling Shorts            999.0   \n",
       "2                                          AW Bellies            999.0   \n",
       "3                 Alisha Solid Women's Cycling Shorts            699.0   \n",
       "4                 Alisha Solid Women's Cycling Shorts           1199.0   \n",
       "6   dilli bazaaar Bellies, Corporate Casuals, Casuals            699.0   \n",
       "7                 Alisha Solid Women's Cycling Shorts           1199.0   \n",
       "8                                      Ladela Bellies           1724.0   \n",
       "9                              Carrel Printed Women's           2299.0   \n",
       "10                Alisha Solid Women's Cycling Shorts            999.0   \n",
       "11                Alisha Solid Women's Cycling Shorts            999.0   \n",
       "\n",
       "    discounted_price_at_FK                                   product_name_AMZ  \\\n",
       "0                    379.0                Alisha Solid Women's Cycling Shorts   \n",
       "2                    499.0                                         AW Bellies   \n",
       "3                    267.0                Alisha Solid Women's Cycling Shorts   \n",
       "4                    479.0                Alisha Solid Women's Cycling Shorts   \n",
       "6                    349.0  dilli bazaaar Bellies, Corporate Casuals, Casuals   \n",
       "7                    479.0                Alisha Solid Women's Cycling Shorts   \n",
       "8                    950.0                                     Ladela Bellies   \n",
       "9                    910.0                             Carrel Printed Women's   \n",
       "10                   379.0                Alisha Solid Women's Cycling Shorts   \n",
       "11                   379.0                Alisha Solid Women's Cycling Shorts   \n",
       "\n",
       "    retail_price_AMZ  discounted_price_at_AMZ  \n",
       "0              982.0                    438.0  \n",
       "2              991.0                    551.0  \n",
       "3              694.0                    325.0  \n",
       "4             1198.0                    602.0  \n",
       "6              682.0                    385.0  \n",
       "7             1197.0                    542.0  \n",
       "8             1705.0                   1119.0  \n",
       "9             2281.0                   1080.0  \n",
       "10             990.0                    479.0  \n",
       "11             995.0                    434.0  "
      ]
     },
     "execution_count": 55,
     "metadata": {},
     "output_type": "execute_result"
    }
   ],
   "source": [
    "# Table\n",
    "data_table.head(10)"
   ]
  },
  {
   "cell_type": "markdown",
   "id": "e9382327",
   "metadata": {},
   "source": [
    "**Saving Output**"
   ]
  },
  {
   "cell_type": "code",
   "execution_count": 58,
   "id": "b19e9337",
   "metadata": {},
   "outputs": [],
   "source": [
    "output = pd.DataFrame(df[['uniq_id','product_name_FK','retail_price_FK','discounted_price_at_FK','product_name_AMZ',\n",
    "                       'retail_price_AMZ','discounted_price_at_AMZ']])\n",
    "output.to_csv(\"E:\\SIMPLILEARN\\KAGGLE\\DataSet\\Output_HousePrice\\AMZ_FK_MATCHING.csv\")"
   ]
  },
  {
   "cell_type": "code",
   "execution_count": null,
   "id": "70697caa",
   "metadata": {},
   "outputs": [],
   "source": []
  }
 ],
 "metadata": {
  "kernelspec": {
   "display_name": "Python 3 (ipykernel)",
   "language": "python",
   "name": "python3"
  },
  "language_info": {
   "codemirror_mode": {
    "name": "ipython",
    "version": 3
   },
   "file_extension": ".py",
   "mimetype": "text/x-python",
   "name": "python",
   "nbconvert_exporter": "python",
   "pygments_lexer": "ipython3",
   "version": "3.9.13"
  }
 },
 "nbformat": 4,
 "nbformat_minor": 5
}
